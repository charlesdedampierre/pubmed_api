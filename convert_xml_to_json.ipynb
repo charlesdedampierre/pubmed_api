{
 "cells": [
  {
   "cell_type": "code",
   "execution_count": 2,
   "metadata": {},
   "outputs": [],
   "source": [
    "import os\n",
    "import json\n",
    "import xmltodict\n",
    "from lxml import etree\n",
    "from tqdm import tqdm"
   ]
  },
  {
   "cell_type": "code",
   "execution_count": 3,
   "metadata": {},
   "outputs": [
    {
     "name": "stderr",
     "output_type": "stream",
     "text": [
      "Processing articles: 385694it [12:16, 523.76it/s] \n"
     ]
    }
   ],
   "source": [
    "def process_element(elem, file_index):\n",
    "\n",
    "    # Convert the XML element to a dictionary\n",
    "    dict_element = xmltodict.parse(etree.tostring(elem, encoding='unicode'))\n",
    "    # Convert dictionary to JSON string\n",
    "    json_data = json.dumps(dict_element, indent=4)\n",
    "    # Save JSON data to file\n",
    "    with open(f'saved_json/article_{file_index}.json', 'w') as f:\n",
    "        f.write(json_data)\n",
    "\n",
    "\n",
    "# Ensure the saved_json directory exists\n",
    "os.makedirs('saved_json', exist_ok=True)\n",
    "\n",
    "# Define the path for the XML file\n",
    "path = 'homeostasis.xml'\n",
    "\n",
    "# Create an iterator for the XML elements\n",
    "context = etree.iterparse(path, events=('end',), tag='PubmedArticle')\n",
    "# Using tqdm to add a progress bar\n",
    "try:\n",
    "    # Get total number of PubmedArticle elements to initialize tqdm (optional, remove if performance hit)\n",
    "    total_articles = sum(1 for event, elem in etree.iterparse(path, events=('end',), tag='PubmedArticle'))\n",
    "except Exception:\n",
    "    total_articles = None  # If count fails, progress bar will not show total\n",
    "\n",
    "\n",
    "context = etree.iterparse(path, events=('end',), tag='PubmedArticle', recover=True)  # reinitialize iterator for actual processing\n",
    "progress_bar = tqdm(context, total=total_articles, desc=\"Processing articles\")\n",
    "\n",
    "file_index = 1\n",
    "for event, elem in progress_bar:\n",
    "    process_element(elem, file_index)\n",
    "    file_index += 1\n",
    "    # Clear the element to free up memory\n",
    "    elem.clear()\n",
    "    # Also eliminate now-empty references from the root node to <Element>\n",
    "    while elem.getprevious() is not None:\n",
    "        del elem.getparent()[0]"
   ]
  }
 ],
 "metadata": {
  "kernelspec": {
   "display_name": "bunka_env",
   "language": "python",
   "name": "python3"
  },
  "language_info": {
   "codemirror_mode": {
    "name": "ipython",
    "version": 3
   },
   "file_extension": ".py",
   "mimetype": "text/x-python",
   "name": "python",
   "nbconvert_exporter": "python",
   "pygments_lexer": "ipython3",
   "version": "3.11.7"
  }
 },
 "nbformat": 4,
 "nbformat_minor": 2
}
