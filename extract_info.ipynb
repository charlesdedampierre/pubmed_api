{
 "cells": [
  {
   "cell_type": "markdown",
   "metadata": {},
   "source": [
    "#### Test on one file"
   ]
  },
  {
   "cell_type": "code",
   "execution_count": 64,
   "metadata": {},
   "outputs": [],
   "source": [
    "import json\n",
    "\n",
    "def load_json(file_path):\n",
    "    # Open the JSON file and load its content\n",
    "    with open(file_path, 'r', encoding='utf-8') as file:\n",
    "        data = json.load(file)\n",
    "    return data\n",
    "        \n",
    "# Specify the path to your JSON file\n",
    "file_path = 'saved_json/article_92181.json'\n",
    "\n",
    "res = load_json(file_path)"
   ]
  },
  {
   "cell_type": "markdown",
   "metadata": {},
   "source": [
    "### Process all files"
   ]
  },
  {
   "cell_type": "code",
   "execution_count": null,
   "metadata": {},
   "outputs": [],
   "source": [
    "import json\n",
    "import pandas as pd\n",
    "import os\n",
    "from tqdm import tqdm\n",
    "\n",
    "def load_json(file_path):\n",
    "    # Open the JSON file and load its content\n",
    "    with open(file_path, 'r', encoding='utf-8') as file:\n",
    "        data = json.load(file)\n",
    "    return data\n",
    "\n",
    "def extract_authors(article):\n",
    "    # Initialize an empty list to store author names\n",
    "    authors_list = []\n",
    "    try:\n",
    "        # Extract the author data\n",
    "        authors = article['PubmedArticle']['MedlineCitation']['Article']['AuthorList']['Author']\n",
    "        if isinstance(authors, list):  # Check if authors is a list of multiple authors\n",
    "            for author in authors:\n",
    "                full_name = f\"{author.get('ForeName', '')} {author.get('LastName', '')}\".strip()\n",
    "                authors_list.append(full_name)\n",
    "        else:  # Single author case\n",
    "            full_name = f\"{authors.get('ForeName', '')} {authors.get('LastName', '')}\".strip()\n",
    "            authors_list.append(full_name)\n",
    "    except KeyError:\n",
    "        # In case the author information is missing or the format is unexpected\n",
    "        authors_list.append(\"No author info available\")\n",
    "    return authors_list\n",
    "\n",
    "def extract_year(article):\n",
    "    try:\n",
    "        pub_date = article['PubmedArticle']['MedlineCitation']['Article']['Journal']['JournalIssue']['PubDate']\n",
    "        year = pub_date.get('Year', 'No year available')\n",
    "        return year\n",
    "    except KeyError:\n",
    "        return \"No year available\"\n",
    "\n",
    "def extract_abstract(article):\n",
    "    try:\n",
    "        abstract = article['PubmedArticle']['MedlineCitation']['Article']['Abstract']['AbstractText']\n",
    "        if isinstance(abstract, list):\n",
    "            return \" \".join(abstract)  # Join list elements if abstract is provided as a list\n",
    "        return abstract\n",
    "    except KeyError:\n",
    "        return \"No abstract available\"\n",
    "\n",
    "def create_article_dataframe(directory, num_files):\n",
    "    ids = []\n",
    "    titles = []\n",
    "    journals = []\n",
    "    authors = []\n",
    "    publication_years = []\n",
    "    abstracts = []\n",
    "\n",
    "    # Initialize tqdm around the loop to show progress bar\n",
    "    for i in tqdm(range(num_files), desc=\"Loading articles\"):\n",
    "        file_path = os.path.join(directory, f'article_{i}.json')\n",
    "        try:\n",
    "            article = load_json(file_path)\n",
    "            # Extract ID, title, journal, authors, year, and abstract\n",
    "            pmid = article['PubmedArticle']['MedlineCitation']['PMID']['#text']\n",
    "            title = article['PubmedArticle']['MedlineCitation']['Article']['ArticleTitle']\n",
    "            journal_name = article['PubmedArticle']['MedlineCitation']['Article']['Journal']['Title']\n",
    "            authors_list = extract_authors(article)\n",
    "            year = extract_year(article)\n",
    "            abstract = extract_abstract(article)\n",
    "\n",
    "            ids.append(pmid)\n",
    "            titles.append(title)\n",
    "            journals.append(journal_name)\n",
    "            authors.append(\", \".join(authors_list))\n",
    "            publication_years.append(year)\n",
    "            abstracts.append(abstract)\n",
    "        except Exception as e:\n",
    "            print(f\"Error reading {file_path}: {e}\")\n",
    "            continue\n",
    "\n",
    "    # Create DataFrame\n",
    "    df = pd.DataFrame({\n",
    "        'PMID': ids,\n",
    "        'Title': titles,\n",
    "        'Journal': journals,\n",
    "        'Authors': authors,\n",
    "        'Publication Year': publication_years,\n",
    "        'Abstract': abstracts\n",
    "    })\n",
    "\n",
    "    return df\n",
    "\n",
    "# Path to the directory containing JSON files\n",
    "directory = 'saved_json'\n",
    "# Number of files to process\n",
    "num_files = 400000\n",
    "\n",
    "# Create the DataFrame\n",
    "article_df = create_article_dataframe(directory, num_files)\n",
    "print(article_df)\n"
   ]
  },
  {
   "cell_type": "code",
   "execution_count": 66,
   "metadata": {},
   "outputs": [],
   "source": [
    "article_df.to_csv('final.csv')"
   ]
  },
  {
   "cell_type": "code",
   "execution_count": 75,
   "metadata": {},
   "outputs": [],
   "source": [
    "article_df_sample = article_df.copy()\n",
    "article_df_sample = article_df_sample[article_df_sample['Abstract']!='No abstract available']"
   ]
  },
  {
   "cell_type": "code",
   "execution_count": 92,
   "metadata": {},
   "outputs": [],
   "source": [
    "article_df_sample.sample(10000, random_state=42).to_csv('homeo_sample.csv')"
   ]
  }
 ],
 "metadata": {
  "kernelspec": {
   "display_name": "bunka_env",
   "language": "python",
   "name": "python3"
  },
  "language_info": {
   "codemirror_mode": {
    "name": "ipython",
    "version": 3
   },
   "file_extension": ".py",
   "mimetype": "text/x-python",
   "name": "python",
   "nbconvert_exporter": "python",
   "pygments_lexer": "ipython3",
   "version": "3.11.7"
  }
 },
 "nbformat": 4,
 "nbformat_minor": 2
}
